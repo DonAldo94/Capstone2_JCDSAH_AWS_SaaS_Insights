{
 "cells": [
  {
   "cell_type": "markdown",
   "id": "73f9033e",
   "metadata": {},
   "source": [
    "AWS SaaS Sales Business Insight\n",
    "\n",
    "---\n",
    "\n",
    "### Perspective\n",
    "In today’s competitive SaaS landscape, profitable growth matters more than ever. This project uses the **AWS_SaaS_Sales** dataset to understand how our sales engine is performing—not only on revenue, but on **margin sustainability**. The goal is to help leadership decide **where to double down, what to fix, and what to stop**.\n",
    "\n",
    "**Stakeholder takeaway:** We’ll pinpoint **where we win profitably, where we lose money, and which levers—discounts, regions, and segments—most impact results.**\n",
    "\n",
    "---\n",
    "\n",
    "### Key Business Questions\n",
    "1. **Performance over time** – Are Sales and Profit moving together, or are we growing revenue at the expense of margin?  \n",
    "2. **Where to focus** – Which regions, subregions, industries, products, and customers contribute the most profit? Which consistently destroy value?  \n",
    "3. **Discount effectiveness** – Are discounts driving healthy volume, or are they systematically eroding margins?  \n",
    "4. **Customer & segment strategy** – How do SMB, Enterprise, and Strategic segments perform in terms of profitability? Which deserve higher prioritization?\n",
    "\n",
    "**Why it matters:** Answering these enables leadership to **allocate resources effectively**, double down on profitable markets, and fix or exit value‑destroying practices.\n",
    "\n",
    "---\n",
    "\n",
    "### Business Context & Data Quality\n",
    "This dataset represents AWS SaaS **order‑level** transactions—sales, discounts, profit, customers, segments, and geographies. It’s a **transactional mirror** of commercial performance.\n",
    "\n",
    "**Quality observations:**  \n",
    "- No missing or duplicate rows at load time → the data is reliable for decision‑making.  \n",
    "- Negative profits exist → these are not data errors but **loss‑making deals** (pricing/discount/cost issues).  \n",
    "\n",
    "**Implication:** We can trust the foundation and focus on explaining **drivers of profitability vs. loss**."
   ]
  },
  {
   "cell_type": "markdown",
   "id": "af8258ec",
   "metadata": {},
   "source": [
    "---\n",
    "\n",
    "## 1. Import Data and Library"
   ]
  },
  {
   "cell_type": "code",
   "execution_count": 1,
   "id": "c51bdc95",
   "metadata": {},
   "outputs": [],
   "source": [
    "# Library\n",
    "import os\n",
    "import numpy as np\n",
    "import pandas as pd\n",
    "import matplotlib.pyplot as plt\n",
    "\n",
    "# Statistical Test\n",
    "try:\n",
    "    from scipy import stats\n",
    "    SCIPY_AVAILABLE = True\n",
    "except Exception:\n",
    "    SCIPY_AVAILABLE = False\n",
    "\n",
    "pd.set_option('display.float_format', lambda x: f\"{x:,.4f}\")"
   ]
  },
  {
   "cell_type": "code",
   "execution_count": 2,
   "id": "683ba95a",
   "metadata": {},
   "outputs": [
    {
     "data": {
      "text/html": [
       "<div>\n",
       "<style scoped>\n",
       "    .dataframe tbody tr th:only-of-type {\n",
       "        vertical-align: middle;\n",
       "    }\n",
       "\n",
       "    .dataframe tbody tr th {\n",
       "        vertical-align: top;\n",
       "    }\n",
       "\n",
       "    .dataframe thead th {\n",
       "        text-align: right;\n",
       "    }\n",
       "</style>\n",
       "<table border=\"1\" class=\"dataframe\">\n",
       "  <thead>\n",
       "    <tr style=\"text-align: right;\">\n",
       "      <th></th>\n",
       "      <th>Row ID</th>\n",
       "      <th>Order ID</th>\n",
       "      <th>Order Date</th>\n",
       "      <th>Date Key</th>\n",
       "      <th>Contact Name</th>\n",
       "      <th>Country</th>\n",
       "      <th>City</th>\n",
       "      <th>Region</th>\n",
       "      <th>Subregion</th>\n",
       "      <th>Customer</th>\n",
       "      <th>Customer ID</th>\n",
       "      <th>Industry</th>\n",
       "      <th>Segment</th>\n",
       "      <th>Product</th>\n",
       "      <th>License</th>\n",
       "      <th>Sales</th>\n",
       "      <th>Quantity</th>\n",
       "      <th>Discount</th>\n",
       "      <th>Profit</th>\n",
       "    </tr>\n",
       "  </thead>\n",
       "  <tbody>\n",
       "    <tr>\n",
       "      <th>0</th>\n",
       "      <td>1</td>\n",
       "      <td>EMEA-2022-152156</td>\n",
       "      <td>11/9/2022</td>\n",
       "      <td>20221109</td>\n",
       "      <td>Nathan Bell</td>\n",
       "      <td>Ireland</td>\n",
       "      <td>Dublin</td>\n",
       "      <td>EMEA</td>\n",
       "      <td>UKIR</td>\n",
       "      <td>Chevron</td>\n",
       "      <td>1017</td>\n",
       "      <td>Energy</td>\n",
       "      <td>SMB</td>\n",
       "      <td>Marketing Suite</td>\n",
       "      <td>16GRM07R1K</td>\n",
       "      <td>261.9600</td>\n",
       "      <td>2</td>\n",
       "      <td>0.0000</td>\n",
       "      <td>41.9136</td>\n",
       "    </tr>\n",
       "    <tr>\n",
       "      <th>1</th>\n",
       "      <td>2</td>\n",
       "      <td>EMEA-2022-152156</td>\n",
       "      <td>11/9/2022</td>\n",
       "      <td>20221109</td>\n",
       "      <td>Nathan Bell</td>\n",
       "      <td>Ireland</td>\n",
       "      <td>Dublin</td>\n",
       "      <td>EMEA</td>\n",
       "      <td>UKIR</td>\n",
       "      <td>Chevron</td>\n",
       "      <td>1017</td>\n",
       "      <td>Energy</td>\n",
       "      <td>SMB</td>\n",
       "      <td>FinanceHub</td>\n",
       "      <td>QLIW57KZUV</td>\n",
       "      <td>731.9400</td>\n",
       "      <td>3</td>\n",
       "      <td>0.0000</td>\n",
       "      <td>219.5820</td>\n",
       "    </tr>\n",
       "    <tr>\n",
       "      <th>2</th>\n",
       "      <td>3</td>\n",
       "      <td>AMER-2022-138688</td>\n",
       "      <td>6/13/2022</td>\n",
       "      <td>20220613</td>\n",
       "      <td>Deirdre Bailey</td>\n",
       "      <td>United States</td>\n",
       "      <td>New York City</td>\n",
       "      <td>AMER</td>\n",
       "      <td>NAMER</td>\n",
       "      <td>Phillips 66</td>\n",
       "      <td>1056</td>\n",
       "      <td>Energy</td>\n",
       "      <td>Strategic</td>\n",
       "      <td>FinanceHub</td>\n",
       "      <td>JI6BVL70HQ</td>\n",
       "      <td>14.6200</td>\n",
       "      <td>2</td>\n",
       "      <td>0.0000</td>\n",
       "      <td>6.8714</td>\n",
       "    </tr>\n",
       "  </tbody>\n",
       "</table>\n",
       "</div>"
      ],
      "text/plain": [
       "   Row ID          Order ID Order Date  Date Key    Contact Name  \\\n",
       "0       1  EMEA-2022-152156  11/9/2022  20221109     Nathan Bell   \n",
       "1       2  EMEA-2022-152156  11/9/2022  20221109     Nathan Bell   \n",
       "2       3  AMER-2022-138688  6/13/2022  20220613  Deirdre Bailey   \n",
       "\n",
       "         Country           City Region Subregion     Customer  Customer ID  \\\n",
       "0        Ireland         Dublin   EMEA      UKIR      Chevron         1017   \n",
       "1        Ireland         Dublin   EMEA      UKIR      Chevron         1017   \n",
       "2  United States  New York City   AMER     NAMER  Phillips 66         1056   \n",
       "\n",
       "  Industry    Segment          Product     License    Sales  Quantity  \\\n",
       "0   Energy        SMB  Marketing Suite  16GRM07R1K 261.9600         2   \n",
       "1   Energy        SMB       FinanceHub  QLIW57KZUV 731.9400         3   \n",
       "2   Energy  Strategic       FinanceHub  JI6BVL70HQ  14.6200         2   \n",
       "\n",
       "   Discount   Profit  \n",
       "0    0.0000  41.9136  \n",
       "1    0.0000 219.5820  \n",
       "2    0.0000   6.8714  "
      ]
     },
     "execution_count": 2,
     "metadata": {},
     "output_type": "execute_result"
    }
   ],
   "source": [
    "# Data Set\n",
    "dataset_path = \"/Users/macbookpro/Desktop/Other Docs/Purwadhika - Data Science Course/Python data/Capstone_Project_2/\"\n",
    "file_name = \"AWS_SaaS_Sales.csv\"\n",
    "\n",
    "# Fallbacks for portability\n",
    "alt_path_candidates = [dataset_path, os.getcwd(), \".\", \"./data\", \"../data\"]\n",
    "\n",
    "csv_path = None\n",
    "for p in alt_path_candidates:\n",
    "    candidate = os.path.join(p, file_name)\n",
    "    if os.path.exists(candidate):\n",
    "        csv_path = candidate\n",
    "        break\n",
    "\n",
    "if csv_path is None:\n",
    "    raise FileNotFoundError(\"AWS_SaaS_Sales.csv not found. Place it in dataset_path or working directory.\")\n",
    "\n",
    "aws_saas_dataset = pd.read_csv(csv_path)\n",
    "aws_saas_dataset.head(3)"
   ]
  },
  {
   "cell_type": "code",
   "execution_count": null,
   "id": "01b9f7ab",
   "metadata": {},
   "outputs": [
    {
     "name": "stdout",
     "output_type": "stream",
     "text": [
      "{'rows': 9994, 'cols': 19}\n",
      "\n",
      "Dtypes (first 10):\n",
      " Row ID           int64\n",
      "Order ID        object\n",
      "Order Date      object\n",
      "Date Key         int64\n",
      "Contact Name    object\n",
      "Country         object\n",
      "City            object\n",
      "Region          object\n",
      "Subregion       object\n",
      "Customer        object\n",
      "dtype: object\n",
      "\n",
      "Missing values by column (top 10):\n",
      " Row ID          0\n",
      "Order ID        0\n",
      "Order Date      0\n",
      "Date Key        0\n",
      "Contact Name    0\n",
      "Country         0\n",
      "City            0\n",
      "Region          0\n",
      "Subregion       0\n",
      "Customer        0\n",
      "dtype: int64\n",
      "\n",
      "Duplicate rows: 0\n"
     ]
    }
   ],
   "source": [
    "# Quick data overview & quality snapshot \n",
    "print({\"rows\": aws_saas_dataset.shape[0], \"cols\": aws_saas_dataset.shape[1]})\n",
    "print(\"\\nDtypes (first 10):\\n\", aws_saas_dataset.dtypes.head(10))\n",
    "\n",
    "missing = aws_saas_dataset.isna().sum().sort_values(ascending=False)\n",
    "duplicates = aws_saas_dataset.duplicated().sum()\n",
    "print(\"\\nMissing values by column (top 10):\\n\", missing.head(10))\n",
    "print(f\"\\nDuplicate rows: {duplicates}\")"
   ]
  },
  {
   "cell_type": "markdown",
   "id": "8993cf7e",
   "metadata": {},
   "source": [
    "---\n",
    "\n",
    "## 2. Data Preparation & Validation\n",
    "Before drawing insights, we ensure consistent structure and **preserve true business signals** (e.g., loss‑making orders).\n",
    "\n",
    "- Parse dates → enables quarter, year, and trend analysis.  \n",
    "- Standardize text fields → avoid duplicate categories (e.g., \"EMEA\" vs \"EMEA \").  \n",
    "- Convert metrics → ensure Sales, Profit, Discount, Quantity are numeric.  \n",
    "- Flag anomalies (do not drop blindly): negative profit, discount outside [0,1], non‑positive sales/quantity."
   ]
  },
  {
   "cell_type": "code",
   "execution_count": 4,
   "id": "4ef78b1e",
   "metadata": {},
   "outputs": [
    {
     "name": "stdout",
     "output_type": "stream",
     "text": [
      "Anomaly summary: {'negative_profit': 1871, 'zero_profit': 65, 'discount_out_of_range': 0, 'sales_nonpositive': 0, 'qty_nonpositive': 0}\n"
     ]
    }
   ],
   "source": [
    "# Cleaning & type fixes\n",
    "df = aws_saas_dataset.copy()\n",
    "\n",
    "# Try common date column names\n",
    "possible_date_cols = [\"Order Date\", \"OrderDate\", \"Order_Date\"]\n",
    "date_col = next((c for c in possible_date_cols if c in df.columns), None)\n",
    "if date_col is None:\n",
    "    raise KeyError(\"Date column not found. Expected one of: 'Order Date', 'OrderDate', 'Order_Date'.\")\n",
    "\n",
    "df[date_col] = pd.to_datetime(df[date_col], errors='coerce')\n",
    "\n",
    "# Strip text columns\n",
    "for c in df.select_dtypes(include='object').columns:\n",
    "    df[c] = df[c].astype(str).str.strip()\n",
    "\n",
    "# Ensure numeric\n",
    "for c in [\"Sales\", \"Quantity\", \"Discount\", \"Profit\"]:\n",
    "    if c in df.columns:\n",
    "        df[c] = pd.to_numeric(df[c], errors='coerce')\n",
    "\n",
    "# Anomaly flags (non-removal)\n",
    "anomalies = {\n",
    "    \"negative_profit\": int((df[\"Profit\"] < 0).sum()) if \"Profit\" in df.columns else None,\n",
    "    \"zero_profit\": int((df[\"Profit\"] == 0).sum()) if \"Profit\" in df.columns else None,\n",
    "    \"discount_out_of_range\": int(((df[\"Discount\"] < 0) | (df[\"Discount\"] > 1)).sum()) if \"Discount\" in df.columns else None,\n",
    "    \"sales_nonpositive\": int((df[\"Sales\"] <= 0).sum()) if \"Sales\" in df.columns else None,\n",
    "    \"qty_nonpositive\": int((df[\"Quantity\"] <= 0).sum()) if \"Quantity\" in df.columns else None,\n",
    "}\n",
    "print(\"Anomaly summary:\", anomalies)"
   ]
  },
  {
   "cell_type": "markdown",
   "id": "9bf68ecc",
   "metadata": {},
   "source": [
    "---\n",
    "\n",
    "## 3. Profitability Outlook\n",
    "To empower decisions, we engineer profitability & time features:\n",
    "- **Margin** = Profit / Sales  \n",
    "- **PricePerUnit** = Sales / Quantity  \n",
    "- **Year, Quarter, Month** from the order date  \n",
    "- **DiscountFlag** (0/1) & **DiscountBand** (No/Low/Medium/High)\n",
    "\n",
    "**Stakeholder implication:** These features reveal whether growth is **profitable, sustainable, or subsidized** by discounting."
   ]
  },
  {
   "cell_type": "code",
   "execution_count": 5,
   "id": "5aae5431",
   "metadata": {},
   "outputs": [],
   "source": [
    "df['Margin'] = df['Profit'] / df['Sales']\n",
    "df['PricePerUnit'] = df['Sales'] / df['Quantity']\n",
    "\n",
    "df['Year'] = df[date_col].dt.year\n",
    "df['Quarter'] = df[date_col].dt.to_period('Q').astype(str)\n",
    "df['Month'] = df[date_col].dt.to_period('M').astype(str)\n",
    "\n",
    "df['DiscountFlag'] = (df['Discount'] > 0).astype(int)\n",
    "df['DiscountBand'] = pd.cut(\n",
    "    df['Discount'],\n",
    "    bins=[-0.001, 0.0, 0.2, 0.5, 1.0],\n",
    "    labels=[\"0%\", \"0.01–20%\", \"20.01–50%\", \"50.01–100%\"],\n",
    "    include_lowest=True\n",
    ")"
   ]
  },
  {
   "cell_type": "markdown",
   "id": "9bfbcf03",
   "metadata": {},
   "source": [
    "---\n",
    "\n",
    "## 4. Descriptive Findings (What the data says)"
   ]
  },
  {
   "cell_type": "code",
   "execution_count": 6,
   "id": "c7c13420",
   "metadata": {},
   "outputs": [
    {
     "data": {
      "text/html": [
       "<div>\n",
       "<style scoped>\n",
       "    .dataframe tbody tr th:only-of-type {\n",
       "        vertical-align: middle;\n",
       "    }\n",
       "\n",
       "    .dataframe tbody tr th {\n",
       "        vertical-align: top;\n",
       "    }\n",
       "\n",
       "    .dataframe thead th {\n",
       "        text-align: right;\n",
       "    }\n",
       "</style>\n",
       "<table border=\"1\" class=\"dataframe\">\n",
       "  <thead>\n",
       "    <tr style=\"text-align: right;\">\n",
       "      <th></th>\n",
       "      <th>Sales</th>\n",
       "      <th>Profit</th>\n",
       "      <th>Quantity</th>\n",
       "      <th>Discount</th>\n",
       "      <th>Margin</th>\n",
       "      <th>PricePerUnit</th>\n",
       "    </tr>\n",
       "  </thead>\n",
       "  <tbody>\n",
       "    <tr>\n",
       "      <th>count</th>\n",
       "      <td>9,994.0000</td>\n",
       "      <td>9,994.0000</td>\n",
       "      <td>9,994.0000</td>\n",
       "      <td>9,994.0000</td>\n",
       "      <td>9,994.0000</td>\n",
       "      <td>9,994.0000</td>\n",
       "    </tr>\n",
       "    <tr>\n",
       "      <th>mean</th>\n",
       "      <td>229.8580</td>\n",
       "      <td>28.6569</td>\n",
       "      <td>3.7896</td>\n",
       "      <td>0.1562</td>\n",
       "      <td>0.1203</td>\n",
       "      <td>60.9196</td>\n",
       "    </tr>\n",
       "    <tr>\n",
       "      <th>std</th>\n",
       "      <td>623.2451</td>\n",
       "      <td>234.2601</td>\n",
       "      <td>2.2251</td>\n",
       "      <td>0.2065</td>\n",
       "      <td>0.4668</td>\n",
       "      <td>142.9274</td>\n",
       "    </tr>\n",
       "    <tr>\n",
       "      <th>min</th>\n",
       "      <td>0.4440</td>\n",
       "      <td>-6,599.9780</td>\n",
       "      <td>1.0000</td>\n",
       "      <td>0.0000</td>\n",
       "      <td>-2.7500</td>\n",
       "      <td>0.3360</td>\n",
       "    </tr>\n",
       "    <tr>\n",
       "      <th>5%</th>\n",
       "      <td>4.9800</td>\n",
       "      <td>-53.0309</td>\n",
       "      <td>1.0000</td>\n",
       "      <td>0.0000</td>\n",
       "      <td>-0.7667</td>\n",
       "      <td>1.9316</td>\n",
       "    </tr>\n",
       "    <tr>\n",
       "      <th>25%</th>\n",
       "      <td>17.2800</td>\n",
       "      <td>1.7288</td>\n",
       "      <td>2.0000</td>\n",
       "      <td>0.0000</td>\n",
       "      <td>0.0750</td>\n",
       "      <td>5.4700</td>\n",
       "    </tr>\n",
       "    <tr>\n",
       "      <th>50%</th>\n",
       "      <td>54.4900</td>\n",
       "      <td>8.6665</td>\n",
       "      <td>3.0000</td>\n",
       "      <td>0.2000</td>\n",
       "      <td>0.2700</td>\n",
       "      <td>16.2700</td>\n",
       "    </tr>\n",
       "    <tr>\n",
       "      <th>75%</th>\n",
       "      <td>209.9400</td>\n",
       "      <td>29.3640</td>\n",
       "      <td>5.0000</td>\n",
       "      <td>0.2000</td>\n",
       "      <td>0.3625</td>\n",
       "      <td>63.9400</td>\n",
       "    </tr>\n",
       "    <tr>\n",
       "      <th>95%</th>\n",
       "      <td>956.9842</td>\n",
       "      <td>168.4704</td>\n",
       "      <td>8.0000</td>\n",
       "      <td>0.7000</td>\n",
       "      <td>0.4800</td>\n",
       "      <td>243.9842</td>\n",
       "    </tr>\n",
       "    <tr>\n",
       "      <th>max</th>\n",
       "      <td>22,638.4800</td>\n",
       "      <td>8,399.9760</td>\n",
       "      <td>14.0000</td>\n",
       "      <td>0.8000</td>\n",
       "      <td>0.5000</td>\n",
       "      <td>3,773.0800</td>\n",
       "    </tr>\n",
       "  </tbody>\n",
       "</table>\n",
       "</div>"
      ],
      "text/plain": [
       "            Sales      Profit   Quantity   Discount     Margin  PricePerUnit\n",
       "count  9,994.0000  9,994.0000 9,994.0000 9,994.0000 9,994.0000    9,994.0000\n",
       "mean     229.8580     28.6569     3.7896     0.1562     0.1203       60.9196\n",
       "std      623.2451    234.2601     2.2251     0.2065     0.4668      142.9274\n",
       "min        0.4440 -6,599.9780     1.0000     0.0000    -2.7500        0.3360\n",
       "5%         4.9800    -53.0309     1.0000     0.0000    -0.7667        1.9316\n",
       "25%       17.2800      1.7288     2.0000     0.0000     0.0750        5.4700\n",
       "50%       54.4900      8.6665     3.0000     0.2000     0.2700       16.2700\n",
       "75%      209.9400     29.3640     5.0000     0.2000     0.3625       63.9400\n",
       "95%      956.9842    168.4704     8.0000     0.7000     0.4800      243.9842\n",
       "max   22,638.4800  8,399.9760    14.0000     0.8000     0.5000    3,773.0800"
      ]
     },
     "execution_count": 6,
     "metadata": {},
     "output_type": "execute_result"
    }
   ],
   "source": [
    "# Overall distribution summary\n",
    "summary = df[['Sales','Profit','Quantity','Discount','Margin','PricePerUnit']].describe(percentiles=[.05,.25,.5,.75,.95])\n",
    "summary"
   ]
  },
  {
   "cell_type": "code",
   "execution_count": 7,
   "id": "dfdfd849",
   "metadata": {},
   "outputs": [
    {
     "data": {
      "text/plain": [
       "(Region\n",
       " AMER    0.2187\n",
       " EMEA    0.1700\n",
       " APJ    -0.1500\n",
       " Name: Margin, dtype: float64,\n",
       " Segment\n",
       " Enterprise   0.1429\n",
       " Strategic    0.1212\n",
       " SMB          0.1120\n",
       " Name: Margin, dtype: float64)"
      ]
     },
     "execution_count": 7,
     "metadata": {},
     "output_type": "execute_result"
    }
   ],
   "source": [
    "# By Region & Segment\n",
    "region_margin = df.groupby('Region')['Margin'].mean().sort_values(ascending=False)\n",
    "segment_margin = df.groupby('Segment')['Margin'].mean().sort_values(ascending=False)\n",
    "region_margin, segment_margin"
   ]
  },
  {
   "cell_type": "code",
   "execution_count": 8,
   "id": "ad2fa163",
   "metadata": {},
   "outputs": [
    {
     "data": {
      "text/html": [
       "<div>\n",
       "<style scoped>\n",
       "    .dataframe tbody tr th:only-of-type {\n",
       "        vertical-align: middle;\n",
       "    }\n",
       "\n",
       "    .dataframe tbody tr th {\n",
       "        vertical-align: top;\n",
       "    }\n",
       "\n",
       "    .dataframe thead th {\n",
       "        text-align: right;\n",
       "    }\n",
       "</style>\n",
       "<table border=\"1\" class=\"dataframe\">\n",
       "  <thead>\n",
       "    <tr style=\"text-align: right;\">\n",
       "      <th></th>\n",
       "      <th>Sales</th>\n",
       "      <th>Profit</th>\n",
       "    </tr>\n",
       "    <tr>\n",
       "      <th>Product</th>\n",
       "      <th></th>\n",
       "      <th></th>\n",
       "    </tr>\n",
       "  </thead>\n",
       "  <tbody>\n",
       "    <tr>\n",
       "      <th>Alchemy</th>\n",
       "      <td>149,528.0300</td>\n",
       "      <td>55,617.8249</td>\n",
       "    </tr>\n",
       "    <tr>\n",
       "      <th>Big Ol Database</th>\n",
       "      <td>189,238.6310</td>\n",
       "      <td>NaN</td>\n",
       "    </tr>\n",
       "    <tr>\n",
       "      <th>ContactMatcher</th>\n",
       "      <td>410,378.2650</td>\n",
       "      <td>12,496.2822</td>\n",
       "    </tr>\n",
       "    <tr>\n",
       "      <th>Data Smasher</th>\n",
       "      <td>167,380.3180</td>\n",
       "      <td>41,936.6357</td>\n",
       "    </tr>\n",
       "    <tr>\n",
       "      <th>FinanceHub</th>\n",
       "      <td>340,935.4150</td>\n",
       "      <td>32,136.4203</td>\n",
       "    </tr>\n",
       "    <tr>\n",
       "      <th>Marketing Suite</th>\n",
       "      <td>114,879.9963</td>\n",
       "      <td>NaN</td>\n",
       "    </tr>\n",
       "    <tr>\n",
       "      <th>Marketing Suite - Gold</th>\n",
       "      <td>223,843.6080</td>\n",
       "      <td>21,278.8264</td>\n",
       "    </tr>\n",
       "    <tr>\n",
       "      <th>OneView</th>\n",
       "      <td>107,532.1610</td>\n",
       "      <td>18,138.0054</td>\n",
       "    </tr>\n",
       "    <tr>\n",
       "      <th>SaaS Connector Pack</th>\n",
       "      <td>NaN</td>\n",
       "      <td>13,059.1436</td>\n",
       "    </tr>\n",
       "    <tr>\n",
       "      <th>SaaS Connector Pack - Gold</th>\n",
       "      <td>NaN</td>\n",
       "      <td>6,964.1767</td>\n",
       "    </tr>\n",
       "  </tbody>\n",
       "</table>\n",
       "</div>"
      ],
      "text/plain": [
       "                                  Sales      Profit\n",
       "Product                                            \n",
       "Alchemy                    149,528.0300 55,617.8249\n",
       "Big Ol Database            189,238.6310         NaN\n",
       "ContactMatcher             410,378.2650 12,496.2822\n",
       "Data Smasher               167,380.3180 41,936.6357\n",
       "FinanceHub                 340,935.4150 32,136.4203\n",
       "Marketing Suite            114,879.9963         NaN\n",
       "Marketing Suite - Gold     223,843.6080 21,278.8264\n",
       "OneView                    107,532.1610 18,138.0054\n",
       "SaaS Connector Pack                 NaN 13,059.1436\n",
       "SaaS Connector Pack - Gold          NaN  6,964.1767"
      ]
     },
     "execution_count": 8,
     "metadata": {},
     "output_type": "execute_result"
    }
   ],
   "source": [
    "# Top products/customers by Sales & Profit (optional views)\n",
    "prod_sales = df.groupby('Product')['Sales'].sum().sort_values(ascending=False).head(10)\n",
    "prod_profit = df.groupby('Product')['Profit'].sum().sort_values(ascending=False).head(10)\n",
    "prod_sales.to_frame('Sales').join(prod_profit.to_frame('Profit'), how='outer').head(10)"
   ]
  },
  {
   "cell_type": "markdown",
   "id": "219ea0cc",
   "metadata": {},
   "source": [
    "**Overall picture**  \n",
    "- A small set of orders/customers dominate sales.  \n",
    "- Profitability is uneven; **loss‑making** deals exist and matter.\n",
    "\n",
    "**Regional PoV**  \n",
    "- EMEA & AMER typically profitable; APJ often underperforms (notably JAPN & ANZ).  \n",
    "\n",
    "**Segment PoV**  \n",
    "- Enterprise > Strategic > SMB in margins (typical pattern in this dataset)."
   ]
  },
  {
   "cell_type": "markdown",
   "id": "813fbd88",
   "metadata": {},
   "source": [
    "---\n",
    "\n",
    "## 5. Visual Evidence (Business‑oriented reading)"
   ]
  },
  {
   "cell_type": "code",
   "execution_count": 9,
   "id": "b45ee773",
   "metadata": {},
   "outputs": [
    {
     "data": {
      "image/png": "[encoded data removed]",
      "text/plain": [
       "<Figure size 640x480 with 1 Axes>"
      ]
     },
     "metadata": {},
     "output_type": "display_data"
    },
    {
     "data": {
      "image/png": "[encoded data removed]",
      "text/plain": [
       "<Figure size 640x480 with 1 Axes>"
      ]
     },
     "metadata": {},
     "output_type": "display_data"
    }
   ],
   "source": [
    "# Sales & Profit by Quarter\n",
    "quarterly = df.groupby('Quarter').agg(Sales=('Sales','sum'), Profit=('Profit','sum')).reset_index()\n",
    "plt.figure(); plt.plot(quarterly['Quarter'], quarterly['Sales']); plt.xticks(rotation=70); plt.title('Sales by Quarter'); plt.xlabel('Quarter'); plt.ylabel('Sales'); plt.tight_layout(); plt.show()\n",
    "plt.figure(); plt.plot(quarterly['Quarter'], quarterly['Profit']); plt.xticks(rotation=70); plt.title('Profit by Quarter'); plt.xlabel('Quarter'); plt.ylabel('Profit'); plt.tight_layout(); plt.show()"
   ]
  },
  {
   "cell_type": "code",
   "execution_count": 10,
   "id": "479adc26",
   "metadata": {},
   "outputs": [
    {
     "data": {
      "image/png": "[encoded data removed]",
      "text/plain": [
       "<Figure size 640x480 with 1 Axes>"
      ]
     },
     "metadata": {},
     "output_type": "display_data"
    }
   ],
   "source": [
    "# Mean Margin by Region\n",
    "region_margin.plot(kind='bar', title='Mean Margin by Region'); plt.tight_layout(); plt.show()"
   ]
  },
  {
   "cell_type": "code",
   "execution_count": 11,
   "id": "780fbca0",
   "metadata": {},
   "outputs": [
    {
     "data": {
      "image/png": "[encoded data removed]",
      "text/plain": [
       "<Figure size 640x480 with 1 Axes>"
      ]
     },
     "metadata": {},
     "output_type": "display_data"
    }
   ],
   "source": [
    "# Mean Margin by Segment\n",
    "segment_margin.plot(kind='bar', title='Mean Margin by Segment'); plt.tight_layout(); plt.show()"
   ]
  },
  {
   "cell_type": "code",
   "execution_count": 12,
   "id": "2f55f4d8",
   "metadata": {},
   "outputs": [
    {
     "data": {
      "image/png": "[encoded data removed]",
      "text/plain": [
       "<Figure size 640x480 with 1 Axes>"
      ]
     },
     "metadata": {},
     "output_type": "display_data"
    }
   ],
   "source": [
    "# Discount vs Margin\n",
    "plt.figure(); plt.scatter(df['Discount'], df['Margin'], s=6, alpha=0.35); plt.title('Discount vs Margin'); plt.xlabel('Discount'); plt.ylabel('Margin'); plt.tight_layout(); plt.show()"
   ]
  },
  {
   "cell_type": "markdown",
   "id": "525dcf88",
   "metadata": {},
   "source": [
    "Each chart answers a specific business question and translates into strategic implications.\n",
    "\n",
    "- **Time trend:** When we plot Sales and Profit by quarter, Sales shows a steady climb. However, Profit does not always follow the same path, revealing **margin compression**. This means that while top-line revenue looks healthy, some quarters are propped up by deals that don’t convert into sustainable profit.\n",
    "\n",
    "- **Regional comparison:** The bar chart for average Margin by Region highlights clear differences. **EMEA and AMER regions consistently generate positive margins**, making them reliable growth engines. Conversely, **APJ regions underperform**—particularly JAPN and ANZ—suggesting that market entry costs, pricing, or discounting strategies are eroding profitability.\n",
    "\n",
    "- **Segment comparison:** The chart for average Margin by Segment shows a hierarchy: **Enterprise customers lead in profitability**, followed by Strategic accounts, while **SMBs deliver the lowest margins**. This pattern suggests our sales force and marketing budget should lean toward Enterprise where returns are strongest.\n",
    "\n",
    "- **Discount vs Margin scatter:** The negative slope is evident—higher discounts correlate with lower margins. This visual confirms what we suspected: **discounting is not creating profitable growth but is eating into margin**. It underlines the urgency to enforce stricter discount controls."
   ]
  },
  {
   "cell_type": "markdown",
   "id": "54734950",
   "metadata": {},
   "source": [
    "**Takeaway:** These visuals tell a clear story—revenue growth alone is not enough. Profitability varies sharply by region, customer type, and discount behavior. The business must act to rebalance where it invests, who it prioritizes, and how it prices."
   ]
  },
  {
   "cell_type": "markdown",
   "id": "557dbfb0",
   "metadata": {},
   "source": [
    "---\n",
    "\n",
    "## 6. Statistical Validation \n",
    "We confirm whether differences are **statistically credible**:\n",
    "- **Welch t‑test** → discounted vs non‑discounted mean margins.  \n",
    "- **One‑way ANOVA** → margin differences across regions."
   ]
  },
  {
   "cell_type": "code",
   "execution_count": 13,
   "id": "89973c16",
   "metadata": {},
   "outputs": [
    {
     "name": "stdout",
     "output_type": "stream",
     "text": [
      "Welch t-test (discounted vs non): t=-52.576, p=0.000e+00\n",
      "Mean margin | discounted=-0.083, non-discounted=0.340\n"
     ]
    }
   ],
   "source": [
    "# Welch t-test: discounted vs non-discounted\n",
    "if SCIPY_AVAILABLE:\n",
    "    g1 = df.loc[df['DiscountFlag']==1, 'Margin'].dropna()\n",
    "    g0 = df.loc[df['DiscountFlag']==0, 'Margin'].dropna()\n",
    "    t_stat, p_val = stats.ttest_ind(g1, g0, equal_var=False)\n",
    "    print(f\"Welch t-test (discounted vs non): t={t_stat:.3f}, p={p_val:.3e}\")\n",
    "    print(f\"Mean margin | discounted={g1.mean():.3f}, non-discounted={g0.mean():.3f}\")\n",
    "else:\n",
    "    print(\"SciPy not available. Skipping t-test.\")"
   ]
  },
  {
   "cell_type": "code",
   "execution_count": 14,
   "id": "6c9c8587",
   "metadata": {},
   "outputs": [
    {
     "name": "stdout",
     "output_type": "stream",
     "text": [
      "ANOVA (Region effect on margin): F=505.533, p=7.277e-210\n"
     ]
    }
   ],
   "source": [
    "if SCIPY_AVAILABLE:\n",
    "    groups = [g['Margin'].dropna().values for _, g in df.groupby('Region')]\n",
    "    F, p = stats.f_oneway(*groups)\n",
    "    print(f\"ANOVA (Region effect on margin): F={F:.3f}, p={p:.3e}\")\n",
    "else:\n",
    "    print(\"SciPy not available. Skipping ANOVA.\")"
   ]
  },
  {
   "cell_type": "markdown",
   "id": "0d23974d",
   "metadata": {},
   "source": [
    "---\n",
    "\n",
    "## 7. Clean Data for Tableau Dashboards\n",
    "We export the enriched dataset (with profitability and time fields) for dashboarding."
   ]
  },
  {
   "cell_type": "code",
   "execution_count": 15,
   "id": "523416f8",
   "metadata": {},
   "outputs": [
    {
     "name": "stdout",
     "output_type": "stream",
     "text": [
      "Excel saved with engine: openpyxl\n",
      "Saved to:\n",
      " - /Users/macbookpro/Desktop/Other Docs/Purwadhika - Data Science Course/Python data/Capstone_Project_2/outputs/AWS_SaaS_Sales_CLEAN.csv \n",
      " - /Users/macbookpro/Desktop/Other Docs/Purwadhika - Data Science Course/Python data/Capstone_Project_2/outputs/AWS_SaaS_Sales_CLEAN.xlsx\n"
     ]
    }
   ],
   "source": [
    "# Output directory\n",
    "outputs_dir = os.path.join(os.path.dirname(csv_path), \"outputs\")\n",
    "os.makedirs(outputs_dir, exist_ok=True)\n",
    "\n",
    "clean_csv = os.path.join(outputs_dir, \"AWS_SaaS_Sales_CLEAN.csv\")\n",
    "clean_xlsx = os.path.join(outputs_dir, \"AWS_SaaS_Sales_CLEAN.xlsx\")\n",
    "\n",
    "# Save CSV (always supported)\n",
    "df.to_csv(clean_csv, index=False)\n",
    "\n",
    "# Save Excel (try openpyxl, fallback to xlsxwriter)\n",
    "excel_saved = False\n",
    "for engine in (\"openpyxl\", \"xlsxwriter\"):\n",
    "    try:\n",
    "        df.to_excel(clean_xlsx, index=False, engine=engine)\n",
    "        excel_saved = True\n",
    "        print(f\"Excel saved with engine: {engine}\")\n",
    "        break\n",
    "    except Exception as e:\n",
    "        print(f\"Excel export with engine '{engine}' failed: {e}\")\n",
    "\n",
    "if not excel_saved:\n",
    "    print(\"Excel export skipped. Install 'openpyxl' or 'xlsxwriter' to enable.\")\n",
    "\n",
    "print(\"Saved to:\\n -\", clean_csv, \"\\n -\", clean_xlsx)"
   ]
  },
  {
   "cell_type": "markdown",
   "id": "f7920b1d",
   "metadata": {},
   "source": [
    "---\n",
    "\n",
    "## 8. Executive Insights & Recommendations\n",
    "**Overall story:** Revenue growth alone is misleading sometimes. Sustainable performance depends on managing **discounts, prioritizing regions, and segment focus**.\n",
    "\n",
    "**Key findings:**  \n",
    "- Discounts consistently depress margin.  \n",
    "- EMEA/AMER are profitable growth markets; APJ drags results (esp. JAPN & ANZ).  \n",
    "- Enterprise customers outperform SMB by a wide margin.  \n",
    "- A handful of accounts and products drive the bulk of profit.  \n",
    "\n",
    "**Recommendations:**  \n",
    "1. **Tighten discount policy** – cap discounts, introduce approval workflows, monthly exception reports.  \n",
    "2. **Double down on EMEA/AMER** – scale resources where margins are strong.  \n",
    "3. **Reassess APJ strategy** – redesign pricing, partner model, or exit unprofitable plays.  \n",
    "4. **Prioritize Enterprise** – align coverage and campaigns to high‑margin customers.  \n",
    "5. **Act on loss‑makers** – renegotiate contracts, discontinue unprofitable products, redesign packages.  \n",
    "\n",
    "**30/60/90 rollout:**  \n",
    "- **30 days:** Publish discount caps and list of top‑10 loss‑making accounts.  \n",
    "- **60 days:** Begin renegotiations and pilot APJ market changes.  \n",
    "- **90 days:** Scale best practices and automate Tableau alerts for negative‑margin orders.  \n",
    "\n",
    "**KPIs to monitor:** Avg Margin %, % Discounted Orders, value of loss‑making deals, contribution of top‑10 accounts/products."
   ]
  },
  {
   "cell_type": "markdown",
   "id": "5bdc701d",
   "metadata": {},
   "source": [
    "---\n",
    "\n",
    "## Appendix \n",
    "\n",
    "**Notes for Tableau Dashboard Visualization**\n",
    "- **Executive Overview** → KPI tiles (Sales, Profit, Margin), quarterly trends, profit by region/segment/industry.  \n",
    "- **Discount deep‑dive** → scatter (Discount vs Margin), box/strip by DiscountBand, table of loss‑making deals.  \n",
    "- **Regional/Segment drilldowns** → filters for Country, Segment, Customer with cross‑highlighting and rich tooltips.  \n",
    "\n",
    "**Stakeholder benefit:** Dashboards let leaders **track profitability levers in real time** and intervene quickly where margin erosion appears.\n",
    "\n",
    "---\n",
    "---"
   ]
  }
 ],
 "metadata": {
  "kernelspec": {
   "display_name": "base",
   "language": "python",
   "name": "python3"
  },
  "language_info": {
   "codemirror_mode": {
    "name": "ipython",
    "version": 3
   },
   "file_extension": ".py",
   "mimetype": "text/x-python",
   "name": "python",
   "nbconvert_exporter": "python",
   "pygments_lexer": "ipython3",
   "version": "3.13.5"
  }
 },
 "nbformat": 4,
 "nbformat_minor": 5
}
